{
 "cells": [
  {
   "cell_type": "code",
   "execution_count": null,
   "metadata": {},
   "outputs": [
    {
     "data": {
      "text/plain": [
       "Traceback (most recent call last):\n",
       "  File \"/Users/balaji/.vscode/extensions/ms-python.python-2025.0.0-darwin-arm64/python_files/python_server.py\", line 133, in exec_user_input\n",
       "    retval = callable_(user_input, user_globals)\n",
       "             ^^^^^^^^^^^^^^^^^^^^^^^^^^^^^^^^^^^\n",
       "  File \"<string>\", line 1, in <module>\n",
       "ModuleNotFoundError: No module named 'swiftagent'\n",
       "\n"
      ]
     },
     "metadata": {},
     "output_type": "display_data"
    }
   ],
   "source": [
    "from swiftagent import SwiftAgent"
   ]
  },
  {
   "cell_type": "code",
   "execution_count": null,
   "metadata": {},
   "outputs": [],
   "source": [
    "# create agent\n",
    "\n",
    "weather_agent = SwiftAgent(\n",
    "    name=\"WeatherAgent\",\n",
    "    instruction=\"You are a weather-savvy agent\",\n",
    "    persist_path=\"./my_agents/WeatherAgent\", \n",
    "    auto_save=True,\n",
    "    episodic_memory=True\n",
    ")"
   ]
  },
  {
   "cell_type": "code",
   "execution_count": null,
   "metadata": {},
   "outputs": [],
   "source": [
    "# dummy function for getting weather\n",
    "\n",
    "@weather_agent.action(name=\"get_weather\", description=\"get weather for a city\")\n",
    "async def get_weather_for_city(city: str) -> None:\n",
    "    if city.lower() == \"herndon\":\n",
    "        return 30\n",
    "    elif city.lower() == 'boston':\n",
    "        return 89"
   ]
  },
  {
   "cell_type": "code",
   "execution_count": null,
   "metadata": {},
   "outputs": [],
   "source": []
  }
 ],
 "metadata": {
  "language_info": {
   "name": "python"
  }
 },
 "nbformat": 4,
 "nbformat_minor": 2
}
